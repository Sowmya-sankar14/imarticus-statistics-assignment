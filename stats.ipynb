{
 "cells": [
  {
   "cell_type": "markdown",
   "id": "d4b8d4d3",
   "metadata": {},
   "source": [
    "The number of pizzas sold per day by a food zone \"Pazzi per\n",
    "Pizza\" follows a poisson distribution at a rate of 76 pizzas\n",
    "per day. What is the probability that the number of pizza\n",
    "sales exceeds 80 in a day? Write Python code to calculate the\n",
    "probability."
   ]
  },
  {
   "cell_type": "code",
   "execution_count": 9,
   "id": "9a5b4986",
   "metadata": {},
   "outputs": [
    {
     "data": {
      "text/plain": [
       "0.29799533504770914"
      ]
     },
     "execution_count": 9,
     "metadata": {},
     "output_type": "execute_result"
    }
   ],
   "source": [
    "from scipy.stats import poisson\n",
    "1-poisson.cdf(k=80, mu=76)"
   ]
  },
  {
   "cell_type": "code",
   "execution_count": 10,
   "id": "25ce441b",
   "metadata": {},
   "outputs": [
    {
     "name": "stdout",
     "output_type": "stream",
     "text": [
      "The probability that the number of pizza sales exceeds 80 in a day 0.7020046649522909\n"
     ]
    }
   ],
   "source": [
    "from scipy import stats\n",
    "Probability = stats.poisson.cdf(80,76)\n",
    "print(\"The probability that the number of pizza sales exceeds 80 in a day\",Probability)   "
   ]
  }
 ],
 "metadata": {
  "kernelspec": {
   "display_name": "Python 3 (ipykernel)",
   "language": "python",
   "name": "python3"
  },
  "language_info": {
   "codemirror_mode": {
    "name": "ipython",
    "version": 3
   },
   "file_extension": ".py",
   "mimetype": "text/x-python",
   "name": "python",
   "nbconvert_exporter": "python",
   "pygments_lexer": "ipython3",
   "version": "3.9.7"
  }
 },
 "nbformat": 4,
 "nbformat_minor": 5
}
